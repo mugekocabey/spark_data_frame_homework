{
 "cells": [
  {
   "cell_type": "code",
   "execution_count": 0,
   "metadata": {
    "application/vnd.databricks.v1+cell": {
     "cellMetadata": {
      "byteLimit": 2048000,
      "rowLimit": 10000
     },
     "inputWidgets": {},
     "nuid": "5542f5ec-f39d-4216-b01f-d3bf53cb7484",
     "showTitle": false,
     "title": ""
    }
   },
   "outputs": [],
   "source": [
    "file_path = \"dbfs:/FileStore/routes.dat\""
   ]
  },
  {
   "cell_type": "code",
   "execution_count": 0,
   "metadata": {
    "application/vnd.databricks.v1+cell": {
     "cellMetadata": {
      "byteLimit": 2048000,
      "rowLimit": 10000
     },
     "inputWidgets": {},
     "nuid": "49d499e0-622e-410e-a85a-353312d18397",
     "showTitle": false,
     "title": ""
    }
   },
   "outputs": [],
   "source": [
    "df = spark.read.option(\"delimiter\", \",\").csv(file_path)"
   ]
  },
  {
   "cell_type": "code",
   "execution_count": 0,
   "metadata": {
    "application/vnd.databricks.v1+cell": {
     "cellMetadata": {
      "byteLimit": 2048000,
      "rowLimit": 10000
     },
     "inputWidgets": {},
     "nuid": "26a59c72-04c1-48fc-96aa-3e0b18b8b001",
     "showTitle": false,
     "title": ""
    }
   },
   "outputs": [],
   "source": [
    "columns = [\"Airline\", \"AirlineID\", \"SourceAirport\", \"SourceAirportID\", \"DestinationAirport\", \"DestinationAirportID\", \"Codeshare\", \"Stops\", \"Equipment\"]\n",
    "df = df.toDF(*columns)"
   ]
  },
  {
   "cell_type": "code",
   "execution_count": 0,
   "metadata": {
    "application/vnd.databricks.v1+cell": {
     "cellMetadata": {
      "byteLimit": 2048000,
      "rowLimit": 10000
     },
     "inputWidgets": {},
     "nuid": "e3f98f90-94ee-4fff-a584-8b52731d299f",
     "showTitle": false,
     "title": ""
    }
   },
   "outputs": [],
   "source": [
    "airline_route_counts = df.groupBy(\"Airline\").count()"
   ]
  },
  {
   "cell_type": "code",
   "execution_count": 0,
   "metadata": {
    "application/vnd.databricks.v1+cell": {
     "cellMetadata": {
      "byteLimit": 2048000,
      "rowLimit": 10000
     },
     "inputWidgets": {},
     "nuid": "60eed816-ccab-4fc1-85ff-e014f16811ef",
     "showTitle": false,
     "title": ""
    }
   },
   "outputs": [
    {
     "output_type": "stream",
     "name": "stdout",
     "output_type": "stream",
     "text": [
      "+-------+-----+\n|Airline|count|\n+-------+-----+\n|3P     |6    |\n|DZ     |4    |\n|LT     |12   |\n|MM     |32   |\n|XU     |26   |\n|Z9     |8    |\n|RG     |10   |\n|3K     |36   |\n|CI     |172  |\n|PC     |242  |\n|AZ     |877  |\n|FI     |53   |\n|JH     |24   |\n|PM     |16   |\n|SC     |314  |\n|6Y     |2    |\n|A9     |18   |\n|Q7     |14   |\n|UA     |2180 |\n|2Z     |46   |\n+-------+-----+\nonly showing top 20 rows\n\n"
     ]
    }
   ],
   "source": [
    "airline_route_counts.show(truncate=False)"
   ]
  },
  {
   "cell_type": "code",
   "execution_count": 0,
   "metadata": {
    "application/vnd.databricks.v1+cell": {
     "cellMetadata": {},
     "inputWidgets": {},
     "nuid": "af10bf19-1caf-4a5f-98c1-fedfb8b161b5",
     "showTitle": false,
     "title": ""
    }
   },
   "outputs": [],
   "source": [
    "from pyspark.sql.functions import col  "
   ]
  },
  {
   "cell_type": "code",
   "execution_count": 0,
   "metadata": {
    "application/vnd.databricks.v1+cell": {
     "cellMetadata": {
      "byteLimit": 2048000,
      "rowLimit": 10000
     },
     "inputWidgets": {},
     "nuid": "9ed20fa3-7006-4c2c-99ee-354cf141a714",
     "showTitle": false,
     "title": ""
    }
   },
   "outputs": [],
   "source": [
    "top_airlines = airline_route_counts.orderBy(col(\"count\").desc()).limit(10)"
   ]
  },
  {
   "cell_type": "code",
   "execution_count": 0,
   "metadata": {
    "application/vnd.databricks.v1+cell": {
     "cellMetadata": {
      "byteLimit": 2048000,
      "rowLimit": 10000
     },
     "inputWidgets": {},
     "nuid": "68a4c870-acf0-422e-bfdd-cec7b92015cc",
     "showTitle": false,
     "title": ""
    }
   },
   "outputs": [
    {
     "output_type": "stream",
     "name": "stdout",
     "output_type": "stream",
     "text": [
      "+-------+-----+\n|Airline|count|\n+-------+-----+\n|FR     |2484 |\n|AA     |2354 |\n|UA     |2180 |\n|DL     |1981 |\n|US     |1960 |\n|CZ     |1454 |\n|MU     |1263 |\n|CA     |1260 |\n|WN     |1146 |\n|U2     |1130 |\n+-------+-----+\n\n"
     ]
    }
   ],
   "source": [
    "\n",
    "top_airlines.show(truncate=False)"
   ]
  }
 ],
 "metadata": {
  "application/vnd.databricks.v1+notebook": {
   "dashboards": [],
   "environmentMetadata": null,
   "language": "python",
   "notebookMetadata": {
    "pythonIndentUnit": 4
   },
   "notebookName": "Spark Data Frame - Homework",
   "widgets": {}
  }
 },
 "nbformat": 4,
 "nbformat_minor": 0
}
